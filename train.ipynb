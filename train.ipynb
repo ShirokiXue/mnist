{
 "cells": [
  {
   "cell_type": "code",
   "execution_count": 9,
   "metadata": {},
   "outputs": [],
   "source": [
    "# LOAD LIBRARIES\n",
    "import pandas as pd\n",
    "import numpy as np\n",
    "from sklearn.model_selection import train_test_split\n",
    "from keras.utils.np_utils import to_categorical\n",
    "from keras.models import Sequential\n",
    "from keras.layers import Dense, Dropout, Flatten, Conv2D, MaxPool2D, AvgPool2D, BatchNormalization, Reshape\n",
    "from keras.preprocessing.image import ImageDataGenerator\n",
    "from keras.callbacks import LearningRateScheduler\n",
    "import matplotlib.pyplot as plt"
   ]
  },
  {
   "cell_type": "code",
   "execution_count": 10,
   "metadata": {},
   "outputs": [],
   "source": [
    "# LOAD THE DATA\r\n",
    "train = pd.read_csv('input/train.csv')\r\n",
    "\r\n",
    "# PREPARE DATA FOR NEURAL NETWORK\r\n",
    "Y_train = train[\"label\"]\r\n",
    "X_train = train.drop(labels = [\"label\"],axis = 1)\r\n",
    "X_train = X_train / 255.0\r\n",
    "X_train = X_train.values.reshape(-1,28,28,1)\r\n",
    "Y_train = to_categorical(Y_train, num_classes = 10)\r\n",
    "\r\n",
    "# GLOBAL VARIABLES\r\n",
    "annealer = LearningRateScheduler(lambda x: 1e-3 * 0.95 ** x, verbose=0)"
   ]
  },
  {
   "cell_type": "code",
   "execution_count": 13,
   "metadata": {},
   "outputs": [],
   "source": [
    "model = Sequential()\n",
    "\n",
    "model.add(Conv2D(32, kernel_size = 3, activation='relu', input_shape = (28, 28, 1)))\n",
    "model.add(BatchNormalization())\n",
    "model.add(Conv2D(32, kernel_size = 3, activation='relu'))\n",
    "model.add(BatchNormalization())\n",
    "model.add(Conv2D(32, kernel_size = 5, strides=2, padding='same', activation='relu'))\n",
    "model.add(BatchNormalization())\n",
    "model.add(Dropout(0.4))\n",
    "\n",
    "model.add(Conv2D(64, kernel_size = 3, activation='relu'))\n",
    "model.add(BatchNormalization())\n",
    "model.add(Conv2D(64, kernel_size = 3, activation='relu'))\n",
    "model.add(BatchNormalization())\n",
    "model.add(Conv2D(64, kernel_size = 5, strides=2, padding='same', activation='relu'))\n",
    "model.add(BatchNormalization())\n",
    "model.add(Dropout(0.4))\n",
    "\n",
    "model.add(Conv2D(128, kernel_size = 4, activation='relu'))\n",
    "model.add(BatchNormalization())\n",
    "model.add(Flatten())\n",
    "model.add(Dropout(0.4))\n",
    "model.add(Dense(10, activation='softmax'))\n",
    "\n",
    "# COMPILE WITH ADAM OPTIMIZER AND CROSS ENTROPY COST\n",
    "model.compile(optimizer=\"adam\", loss=\"categorical_crossentropy\", metrics=[\"accuracy\"])"
   ]
  },
  {
   "cell_type": "code",
   "execution_count": 14,
   "metadata": {},
   "outputs": [
    {
     "name": "stderr",
     "output_type": "stream",
     "text": [
      "<ipython-input-14-8056cf292649>:7: UserWarning: `Model.fit_generator` is deprecated and will be removed in a future version. Please use `Model.fit`, which supports generators.\n",
      "  model.fit_generator(datagen.flow(X_train,Y_train, batch_size=64), epochs = 25,\n"
     ]
    },
    {
     "name": "stdout",
     "output_type": "stream",
     "text": [
      "Epoch 1/25\n",
      "656/656 [==============================] - 103s 155ms/step - loss: 0.4396 - accuracy: 0.8654 - lr: 0.0010\n",
      "Epoch 2/25\n",
      "656/656 [==============================] - 102s 155ms/step - loss: 0.1283 - accuracy: 0.9612 - lr: 9.5000e-04\n",
      "Epoch 3/25\n",
      "656/656 [==============================] - 104s 158ms/step - loss: 0.0931 - accuracy: 0.9710 - lr: 9.0250e-04\n",
      "Epoch 4/25\n",
      "656/656 [==============================] - 101s 153ms/step - loss: 0.0808 - accuracy: 0.9744 - lr: 8.5737e-04\n",
      "Epoch 5/25\n",
      "656/656 [==============================] - 99s 150ms/step - loss: 0.0707 - accuracy: 0.9790 - lr: 8.1451e-04\n",
      "Epoch 6/25\n",
      "656/656 [==============================] - 100s 153ms/step - loss: 0.0623 - accuracy: 0.9816 - lr: 7.7378e-04\n",
      "Epoch 7/25\n",
      "656/656 [==============================] - 102s 156ms/step - loss: 0.0598 - accuracy: 0.9824 - lr: 7.3509e-04\n",
      "Epoch 8/25\n",
      "656/656 [==============================] - 102s 155ms/step - loss: 0.0545 - accuracy: 0.9838 - lr: 6.9834e-04\n",
      "Epoch 9/25\n",
      "656/656 [==============================] - 102s 155ms/step - loss: 0.0502 - accuracy: 0.9850 - lr: 6.6342e-04\n",
      "Epoch 10/25\n",
      "656/656 [==============================] - 102s 155ms/step - loss: 0.0465 - accuracy: 0.9863 - lr: 6.3025e-04\n",
      "Epoch 11/25\n",
      "656/656 [==============================] - 102s 156ms/step - loss: 0.0413 - accuracy: 0.9871 - lr: 5.9874e-04\n",
      "Epoch 12/25\n",
      "656/656 [==============================] - 104s 158ms/step - loss: 0.0403 - accuracy: 0.9878 - lr: 5.6880e-04\n",
      "Epoch 13/25\n",
      "656/656 [==============================] - 102s 156ms/step - loss: 0.0367 - accuracy: 0.9892 - lr: 5.4036e-04\n",
      "Epoch 14/25\n",
      "656/656 [==============================] - 84s 128ms/step - loss: 0.0396 - accuracy: 0.9882 - lr: 5.1334e-04\n",
      "Epoch 15/25\n",
      "656/656 [==============================] - 74s 112ms/step - loss: 0.0316 - accuracy: 0.9907 - lr: 4.8767e-04\n",
      "Epoch 16/25\n",
      "656/656 [==============================] - 74s 112ms/step - loss: 0.0321 - accuracy: 0.9901 - lr: 4.6329e-04\n",
      "Epoch 17/25\n",
      "656/656 [==============================] - 74s 112ms/step - loss: 0.0320 - accuracy: 0.9905 - lr: 4.4013e-04\n",
      "Epoch 18/25\n",
      "656/656 [==============================] - 74s 112ms/step - loss: 0.0294 - accuracy: 0.9912 - lr: 4.1812e-04\n",
      "Epoch 19/25\n",
      "656/656 [==============================] - 74s 113ms/step - loss: 0.0292 - accuracy: 0.9911 - lr: 3.9721e-04\n",
      "Epoch 20/25\n",
      "656/656 [==============================] - 75s 114ms/step - loss: 0.0256 - accuracy: 0.9922 - lr: 3.7735e-04\n",
      "Epoch 21/25\n",
      "656/656 [==============================] - 74s 113ms/step - loss: 0.0263 - accuracy: 0.9922 - lr: 3.5849e-04\n",
      "Epoch 22/25\n",
      "656/656 [==============================] - 74s 113ms/step - loss: 0.0228 - accuracy: 0.9929 - lr: 3.4056e-04\n",
      "Epoch 23/25\n",
      "656/656 [==============================] - 74s 113ms/step - loss: 0.0221 - accuracy: 0.9933 - lr: 3.2353e-04\n",
      "Epoch 24/25\n",
      "656/656 [==============================] - 75s 114ms/step - loss: 0.0243 - accuracy: 0.9925 - lr: 3.0736e-04\n",
      "Epoch 25/25\n",
      "656/656 [==============================] - 75s 114ms/step - loss: 0.0211 - accuracy: 0.9938 - lr: 2.9199e-04\n"
     ]
    },
    {
     "data": {
      "text/plain": [
       "<keras.callbacks.History at 0x224812ca760>"
      ]
     },
     "execution_count": 14,
     "metadata": {},
     "output_type": "execute_result"
    }
   ],
   "source": [
    "datagen = ImageDataGenerator(\n",
    "        rotation_range=10,  \n",
    "        zoom_range = 0.1,  \n",
    "        width_shift_range=0.1, \n",
    "        height_shift_range=0.1)\n",
    "        \n",
    "model.fit_generator(datagen.flow(X_train,Y_train, batch_size=64), epochs = 25, \n",
    "    steps_per_epoch = X_train.shape[0]//64, callbacks=[annealer])"
   ]
  },
  {
   "cell_type": "markdown",
   "metadata": {},
   "source": [
    "# Test"
   ]
  },
  {
   "cell_type": "code",
   "execution_count": 5,
   "metadata": {},
   "outputs": [],
   "source": [
    "import pandas as pd\r\n",
    "import keras\r\n",
    "import numpy as np"
   ]
  },
  {
   "cell_type": "code",
   "execution_count": 2,
   "metadata": {},
   "outputs": [],
   "source": [
    "x_test = pd.read_csv('input/test.csv')\r\n",
    "\r\n",
    "x_test = x_test.values.reshape(-1,28,28,1)\r\n",
    "x_test = x_test/255"
   ]
  },
  {
   "cell_type": "code",
   "execution_count": 3,
   "metadata": {},
   "outputs": [],
   "source": [
    "model = keras.models.load_model('output/model.h5')"
   ]
  },
  {
   "cell_type": "code",
   "execution_count": 6,
   "metadata": {},
   "outputs": [],
   "source": [
    "y_predict = model.predict(x_test)\n",
    "y_result=np.argmax(y_predict,axis=1)\n"
   ]
  },
  {
   "cell_type": "code",
   "execution_count": 7,
   "metadata": {},
   "outputs": [
    {
     "data": {
      "text/html": "<div>\n<style scoped>\n    .dataframe tbody tr th:only-of-type {\n        vertical-align: middle;\n    }\n\n    .dataframe tbody tr th {\n        vertical-align: top;\n    }\n\n    .dataframe thead th {\n        text-align: right;\n    }\n</style>\n<table border=\"1\" class=\"dataframe\">\n  <thead>\n    <tr style=\"text-align: right;\">\n      <th></th>\n      <th>ImageId</th>\n      <th>Label</th>\n    </tr>\n  </thead>\n  <tbody>\n    <tr>\n      <th>0</th>\n      <td>1</td>\n      <td>2</td>\n    </tr>\n    <tr>\n      <th>1</th>\n      <td>2</td>\n      <td>0</td>\n    </tr>\n    <tr>\n      <th>2</th>\n      <td>3</td>\n      <td>9</td>\n    </tr>\n    <tr>\n      <th>3</th>\n      <td>4</td>\n      <td>0</td>\n    </tr>\n    <tr>\n      <th>4</th>\n      <td>5</td>\n      <td>3</td>\n    </tr>\n    <tr>\n      <th>5</th>\n      <td>6</td>\n      <td>7</td>\n    </tr>\n    <tr>\n      <th>6</th>\n      <td>7</td>\n      <td>0</td>\n    </tr>\n    <tr>\n      <th>7</th>\n      <td>8</td>\n      <td>3</td>\n    </tr>\n    <tr>\n      <th>8</th>\n      <td>9</td>\n      <td>0</td>\n    </tr>\n    <tr>\n      <th>9</th>\n      <td>10</td>\n      <td>3</td>\n    </tr>\n  </tbody>\n</table>\n</div>",
      "text/plain": "   ImageId  Label\n0        1      2\n1        2      0\n2        3      9\n3        4      0\n4        5      3\n5        6      7\n6        7      0\n7        8      3\n8        9      0\n9       10      3"
     },
     "execution_count": 7,
     "metadata": {},
     "output_type": "execute_result"
    }
   ],
   "source": [
    "submission = pd.Series(y_result, name='Label')\n",
    "submission = pd.concat([pd.Series(range(1 ,28001) ,name = \"ImageId\"),   submission], axis = 1)\n",
    "submission.head(10)\n"
   ]
  },
  {
   "cell_type": "code",
   "execution_count": 8,
   "metadata": {},
   "outputs": [],
   "source": [
    "submission.to_csv('output/submission.csv',index=False)"
   ]
  },
  {
   "cell_type": "code",
   "execution_count": null,
   "metadata": {},
   "outputs": [],
   "source": []
  }
 ],
 "metadata": {
  "interpreter": {
   "hash": "281ad0bb07fa535ec746bc58c729ad5f0f859b0d43fd8d664c2aec6fb60ae034"
  },
  "kernelspec": {
   "display_name": "Python 3.8.8 64-bit (conda)",
   "name": "python388jvsc74a57bd0b3ba2566441a7c06988d0923437866b63cedc61552a5af99d1f4fb67d367b25f"
  },
  "language_info": {
   "codemirror_mode": {
    "name": "ipython",
    "version": 3
   },
   "file_extension": ".py",
   "mimetype": "text/x-python",
   "name": "python",
   "nbconvert_exporter": "python",
   "pygments_lexer": "ipython3",
   "version": "3.8.8"
  },
  "orig_nbformat": 4
 },
 "nbformat": 4,
 "nbformat_minor": 2
}